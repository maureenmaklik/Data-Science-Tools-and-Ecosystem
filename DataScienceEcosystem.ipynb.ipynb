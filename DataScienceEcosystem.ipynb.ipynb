{
 "cells": [
  {
   "cell_type": "markdown",
   "id": "4341891b-950c-443f-989f-885bf01094d9",
   "metadata": {},
   "source": [
    "# Data Science Tools and Ecosystem"
   ]
  },
  {
   "cell_type": "markdown",
   "id": "067959cb-da53-4453-a653-90cf5cce99b5",
   "metadata": {},
   "source": [
    "In this notebook, Data Science Tools and Ecosystem are summarized"
   ]
  },
  {
   "cell_type": "code",
   "execution_count": null,
   "id": "e8829250-67de-4ffe-9ce6-4f07a67f1a21",
   "metadata": {},
   "outputs": [],
   "source": []
  },
  {
   "cell_type": "markdown",
   "id": "97f2f6f8-ef72-4bd0-98f8-6331898fe3fe",
   "metadata": {},
   "source": [
    "Some of the popular languages that Data Scientists use are:\n",
    "Python\n",
    "R\n",
    "SQL"
   ]
  },
  {
   "cell_type": "markdown",
   "id": "43dc2e7f-111f-43a4-a9d5-9981ca38286c",
   "metadata": {},
   "source": [
    "Some of the commonly used libraries used by Data Scientists include:\n",
    "1. Pandas\n",
    "2. NumPy\n",
    "3. Scikit-Learn\n",
    "4. Matplotlib\n",
    "5. Tensorflow"
   ]
  },
  {
   "cell_type": "markdown",
   "id": "3b55f0d9-6f0e-4da3-a1f8-1e3d450274f6",
   "metadata": {},
   "source": [
    "Exercise 6 - Create a markdown cell with a table of Data Science tools:\n",
    "1. python\n",
    "2. jupiter\n",
    "3. colabe"
   ]
  },
  {
   "cell_type": "markdown",
   "id": "dad2652f-862d-46e6-ae61-c323505cc20c",
   "metadata": {},
   "source": [
    "Below are a few examples of evaluating arithmetic expressions in Python"
   ]
  },
  {
   "cell_type": "code",
   "execution_count": 13,
   "id": "d8f4046e-56ce-46e0-9dde-cf86a0ab2a94",
   "metadata": {},
   "outputs": [
    {
     "data": {
      "text/plain": [
       "17"
      ]
     },
     "execution_count": 13,
     "metadata": {},
     "output_type": "execute_result"
    }
   ],
   "source": [
    "(3*4)+5"
   ]
  },
  {
   "cell_type": "code",
   "execution_count": 17,
   "id": "8638b3c0-dff0-4ae9-a8f9-dc80d1398867",
   "metadata": {},
   "outputs": [
    {
     "data": {
      "text/plain": [
       "33.333333333333336"
      ]
     },
     "execution_count": 17,
     "metadata": {},
     "output_type": "execute_result"
    }
   ],
   "source": [
    "# This will convert 2000 minutes to hours by diving by 60\n",
    "\n",
    "2000/60"
   ]
  },
  {
   "cell_type": "markdown",
   "id": "e92e93ad-bcf8-4cd0-9ff5-96705095e798",
   "metadata": {},
   "source": [
    "# Objectives:\n",
    "## List popular languages for Data Science:\n",
    "1. python\n",
    "2. jupiter"
   ]
  },
  {
   "cell_type": "code",
   "execution_count": null,
   "id": "4869cb89-b6a9-4cd9-b377-80cb386a1536",
   "metadata": {},
   "outputs": [],
   "source": [
    "# Author Name\n",
    "Naureen Maqbool"
   ]
  }
 ],
 "metadata": {
  "kernelspec": {
   "display_name": "Python 3 (ipykernel)",
   "language": "python",
   "name": "python3"
  },
  "language_info": {
   "codemirror_mode": {
    "name": "ipython",
    "version": 3
   },
   "file_extension": ".py",
   "mimetype": "text/x-python",
   "name": "python",
   "nbconvert_exporter": "python",
   "pygments_lexer": "ipython3",
   "version": "3.12.4"
  }
 },
 "nbformat": 4,
 "nbformat_minor": 5
}
